{
 "cells": [
  {
   "cell_type": "code",
   "execution_count": 7,
   "id": "5a40c98d",
   "metadata": {},
   "outputs": [],
   "source": [
    "# importing the required libraries \n",
    "import pandas as pd\n",
    "import numpy as np\n",
    "import matplotlib.pyplot as plt\n",
    "import seaborn as sns\n",
    "from sklearn.model_selection import train_test_split\n",
    "from sklearn.preprocessing import LabelEncoder\n",
    "from tensorflow import keras\n",
    "from keras.models import Model\n",
    "from keras.layers import LSTM, Activation, Dense, Dropout, Input, Embedding\n",
    "from keras.optimizers import RMSprop\n",
    "from keras.preprocessing.text import Tokenizer\n",
    "from keras.preprocessing import sequence\n",
    "from keras.utils import pad_sequences\n",
    "from keras import preprocessing\n",
    "from keras.utils import to_categorical\n",
    "from keras.callbacks import EarlyStopping\n",
    "from keras.callbacks import ModelCheckpoint\n",
    "%matplotlib inline\n",
    "\n",
    "import boto3"
   ]
  },
  {
   "cell_type": "code",
   "execution_count": 8,
   "id": "6f55d906",
   "metadata": {},
   "outputs": [],
   "source": [
    "# import the dataset\n",
    "import boto3\n",
    "bucket='seis736-bucket' # Or whatever you called your bucket\n",
    "data_key = 'tweets_fake_real.csv' # Where the file is within your bucket\n",
    "data_location = 's3://seis736-bucket/tweets_fake_real.csv'.format(bucket, data_key)\n",
    "df_fake_real = pd.read_csv(data_location, encoding='latin1')"
   ]
  },
  {
   "cell_type": "code",
   "execution_count": null,
   "id": "2891f071",
   "metadata": {},
   "outputs": [],
   "source": [
    "# Dropping columns which are not required in the classificiation model. Keeping only post_text and label\n",
    "df_fake_real.drop(['post_id', 'user_id', 'image_id(s)','username','timestamp'],axis=1,inplace=True)"
   ]
  },
  {
   "cell_type": "code",
   "execution_count": null,
   "id": "175f5335",
   "metadata": {},
   "outputs": [],
   "source": [
    "X = df_fake_real.post_text\n",
    "Y = df_fake_real.label\n",
    "le = LabelEncoder()\n",
    "Y = le.fit_transform(Y)\n",
    "Y = Y.reshape(-1,1)"
   ]
  },
  {
   "cell_type": "code",
   "execution_count": null,
   "id": "6640558b",
   "metadata": {},
   "outputs": [],
   "source": [
    "# Splitting the dataset in to Train and Test. 75% Training and 25% for Testing\n",
    "X_train,X_test,Y_train,Y_test = train_test_split(X,Y,test_size=0.25)"
   ]
  },
  {
   "cell_type": "code",
   "execution_count": null,
   "id": "fd4d6d46",
   "metadata": {},
   "outputs": [],
   "source": [
    "# Configuring the maximum words and maimum length of word\n",
    "max_words = 1000\n",
    "max_len = 150\n",
    "tok = Tokenizer(num_words=max_words)\n",
    "tok.fit_on_texts(X_train)\n",
    "sequences = tok.texts_to_sequences(X_train)\n",
    "sequences_matrix = keras.utils.pad_sequences(sequences,maxlen=max_len)"
   ]
  },
  {
   "cell_type": "code",
   "execution_count": null,
   "id": "028fd8f6",
   "metadata": {},
   "outputs": [],
   "source": [
    "# Defining and compiling the RNN model\n",
    "def RNN():\n",
    "    inputs = Input(name='inputs',shape=[max_len])\n",
    "    layer = Embedding(max_words,50,input_length=max_len)(inputs)\n",
    "    layer = LSTM(64)(layer)\n",
    "    layer = Dense(256,name='FC1')(layer)\n",
    "    layer = Activation('relu')(layer)\n",
    "    layer = Dropout(0.5)(layer)\n",
    "    layer = Dense(1,name='out_layer')(layer)\n",
    "    layer = Activation('sigmoid')(layer)\n",
    "    model = Model(inputs=inputs,outputs=layer)\n",
    "    return model\n",
    "\n",
    "model = RNN()\n",
    "model.summary()\n",
    "model.compile(loss='binary_crossentropy',optimizer=RMSprop(),metrics=['accuracy'])"
   ]
  },
  {
   "cell_type": "code",
   "execution_count": null,
   "id": "673be291",
   "metadata": {},
   "outputs": [],
   "source": [
    "# Fitting the model\n",
    "filepath=\"rnn_model_fake_real_text_classification.hdf5\"\n",
    "model_checkpoint=ModelCheckpoint(filepath,save_best_only=True,verbose=1)\n",
    "callbacks_list=[model_checkpoint]\n",
    "\n",
    "model.fit(sequences_matrix,Y_train,batch_size=128,epochs=300,\n",
    "          validation_split=0.2,callbacks=[EarlyStopping(monitor='val_loss',min_delta=0.0001)])\n"
   ]
  },
  {
   "cell_type": "code",
   "execution_count": null,
   "id": "16cc2082",
   "metadata": {},
   "outputs": [],
   "source": [
    "# Prediction on the Test set\n",
    "test_sequences = tok.texts_to_sequences(X_test)\n",
    "test_sequences_matrix = keras.utils.pad_sequences(test_sequences,maxlen=max_len)"
   ]
  },
  {
   "cell_type": "code",
   "execution_count": null,
   "id": "3b0753ce",
   "metadata": {},
   "outputs": [],
   "source": [
    "model.save(\"s3://seis736-bucket/rnn_model_fake_real_text_classification.hdf5\")"
   ]
  },
  {
   "cell_type": "code",
   "execution_count": null,
   "id": "094b2e49",
   "metadata": {},
   "outputs": [],
   "source": [
    "# model Accuracy\n",
    "accr = model.evaluate(test_sequences_matrix,Y_test)\n",
    "print('Test set\\n  Loss: {:0.3f}\\n  Accuracy: {:0.3f}'.format(accr[0],accr[1]))"
   ]
  }
 ],
 "metadata": {
  "kernelspec": {
   "display_name": "Python 3",
   "language": "python",
   "name": "python3"
  },
  "language_info": {
   "codemirror_mode": {
    "name": "ipython",
    "version": 3
   },
   "file_extension": ".py",
   "mimetype": "text/x-python",
   "name": "python",
   "nbconvert_exporter": "python",
   "pygments_lexer": "ipython3",
   "version": "3.8.8"
  }
 },
 "nbformat": 4,
 "nbformat_minor": 5
}
